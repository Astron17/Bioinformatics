{
 "cells": [
  {
   "cell_type": "markdown",
   "metadata": {},
   "source": [
    "# Importing Packages"
   ]
  },
  {
   "cell_type": "code",
   "execution_count": 1,
   "metadata": {},
   "outputs": [],
   "source": [
    "from itertools import product\n",
    "from Bio import SeqIO\n",
    "from sklearn.model_selection import train_test_split\n",
    "from sklearn import metrics\n",
    "import sklearn.ensemble\n",
    "from Bio.Seq import Seq\n",
    "from Bio.Alphabet import generic_dna"
   ]
  },
  {
   "cell_type": "markdown",
   "metadata": {},
   "source": [
    "\n",
    "# Generating combinations"
   ]
  },
  {
   "cell_type": "code",
   "execution_count": 2,
   "metadata": {},
   "outputs": [
    {
     "name": "stdout",
     "output_type": "stream",
     "text": [
      "256\n"
     ]
    }
   ],
   "source": [
    "a=list(product(['A','G','C','T'],repeat = 4))\n",
    "res = [''.join(tups) for tups in a] \n",
    "print(len(res))"
   ]
  },
  {
   "cell_type": "code",
   "execution_count": 3,
   "metadata": {},
   "outputs": [],
   "source": [
    "\n",
    "c=[]\n",
    "for i in res:\n",
    "    a = Seq(i, generic_dna)  \n",
    "    b=a.reverse_complement()\n",
    "    if b not in c:\n",
    "        c.append(a)"
   ]
  },
  {
   "cell_type": "markdown",
   "metadata": {},
   "source": [
    "# Calculating the frequency of 4 letter-subsequences"
   ]
  },
  {
   "cell_type": "code",
   "execution_count": 4,
   "metadata": {},
   "outputs": [],
   "source": [
    "def calculate_frequency(seq):\n",
    "    \n",
    "    frequency = {}\n",
    "    for combination in c:\n",
    "        frequency[combination] = 0 \n",
    "    for i in range(len(seq) - 4):  \n",
    "        combination = seq[i:i+4]\n",
    "        if (combination in frequency):\n",
    "            frequency[combination] = frequency[combination] + 1 \n",
    "        rev_com_combinations = str(Seq(combination).reverse_complement())\n",
    "        if (rev_com_combinations in frequency):\n",
    "            frequency[rev_com_combinations] = frequency[rev_com_combinations] + 1\n",
    "    ret_arr = []\n",
    "    for key in frequency:\n",
    "        ret_arr.append( float(float(frequency[key]) / 1500.0 ))\n",
    "    return ret_arr"
   ]
  },
  {
   "cell_type": "markdown",
   "metadata": {},
   "source": [
    "# Reading the Data"
   ]
  },
  {
   "cell_type": "code",
   "execution_count": 5,
   "metadata": {},
   "outputs": [],
   "source": [
    "vista_data=[]\n",
    "random_data=[]\n",
    "chr21_data=[]\n",
    "\n",
    "for line in SeqIO.parse(\"C:\\\\Users\\\\aravi\\\\Desktop\\\\Desktop\\\\Bioinformatics-project4-master\\\\Bioinformatics-project4-master\\\\vista1500\", \"fasta\"):\n",
    "    vista_data.append(str(line.seq).upper())\n",
    "\n",
    "for line in SeqIO.parse(\"C:\\\\Users\\\\aravi\\\\Desktop\\\\Desktop\\\\Bioinformatics-project4-master\\\\Bioinformatics-project4-master\\\\randoms1500\", \"fasta\"):\n",
    "    random_data.append(str(line.seq).upper())\n",
    "\n",
    "for letter in SeqIO.parse(\"C:\\\\Users\\\\aravi\\\\Desktop\\\\Desktop\\\\Bioinformatics-project4-master\\\\Bioinformatics-project4-master\\\\chr21.fa\", \"fasta\"):\n",
    "    chr21_data.append(str(letter.seq).upper())"
   ]
  },
  {
   "cell_type": "code",
   "execution_count": 6,
   "metadata": {},
   "outputs": [
    {
     "name": "stderr",
     "output_type": "stream",
     "text": [
      "c:\\users\\aravi\\appdata\\local\\programs\\python\\python37\\lib\\site-packages\\Bio\\Seq.py:182: BiopythonWarning: Biopython Seq objects now use string comparison. Older versions of Biopython used object comparison. During this transition, please use hash(id(my_seq)) or my_dict[id(my_seq)] if you want the old behaviour, or use hash(str(my_seq)) or my_dict[str(my_seq)] for the new string hashing behaviour.\n",
      "  BiopythonWarning,\n"
     ]
    }
   ],
   "source": [
    "\n",
    "data=chr21_data[0]\n",
    "x_chr21 = []\n",
    "contains_N = []\n",
    "for i in range(0, len(data) - 1500, 750):\n",
    "    sub_seq = data[i:i+1500]\n",
    "    \n",
    "\n",
    "    #if (sub_seq.find('n') == -1):\n",
    "    if 'N' not in sub_seq:\n",
    "        x_chr21.append(calculate_frequency(sub_seq))\n",
    "        contains_N.append(0)\n",
    "    else:\n",
    "        contains_N.append(1)"
   ]
  },
  {
   "cell_type": "code",
   "execution_count": 7,
   "metadata": {},
   "outputs": [
    {
     "data": {
      "text/plain": [
       "46709983"
      ]
     },
     "execution_count": 7,
     "metadata": {},
     "output_type": "execute_result"
    }
   ],
   "source": [
    "len(chr21_data[0])"
   ]
  },
  {
   "cell_type": "markdown",
   "metadata": {},
   "source": []
  },
  {
   "cell_type": "code",
   "execution_count": null,
   "metadata": {},
   "outputs": [],
   "source": [
    "\n",
    "        "
   ]
  },
  {
   "cell_type": "markdown",
   "metadata": {},
   "source": [
    "# Preparing Data for training"
   ]
  },
  {
   "cell_type": "code",
   "execution_count": 8,
   "metadata": {},
   "outputs": [],
   "source": [
    "x = []\n",
    "y = []\n",
    "\n",
    "for line in vista_data:\n",
    "    x.append(calculate_frequency(line))\n",
    "    y.append(1)\n",
    "for line in random_data:\n",
    "    x.append(calculate_frequency(line))\n",
    "    y.append(0)"
   ]
  },
  {
   "cell_type": "code",
   "execution_count": 9,
   "metadata": {},
   "outputs": [],
   "source": [
    "# 80% for trainig and 20% for testing\n",
    "x_train, x_test, y_train, y_test = train_test_split(x, y, test_size=0.2)"
   ]
  },
  {
   "cell_type": "markdown",
   "metadata": {},
   "source": [
    "# Initializing the RandomForestClassifier"
   ]
  },
  {
   "cell_type": "code",
   "execution_count": 10,
   "metadata": {},
   "outputs": [],
   "source": [
    "clf = sklearn.ensemble.RandomForestClassifier(n_estimators=5000)"
   ]
  },
  {
   "cell_type": "markdown",
   "metadata": {},
   "source": [
    "# Fitting the model"
   ]
  },
  {
   "cell_type": "code",
   "execution_count": 11,
   "metadata": {
    "scrolled": true
   },
   "outputs": [
    {
     "data": {
      "text/plain": [
       "RandomForestClassifier(bootstrap=True, class_weight=None, criterion='gini',\n",
       "                       max_depth=None, max_features='auto', max_leaf_nodes=None,\n",
       "                       min_impurity_decrease=0.0, min_impurity_split=None,\n",
       "                       min_samples_leaf=1, min_samples_split=2,\n",
       "                       min_weight_fraction_leaf=0.0, n_estimators=5000,\n",
       "                       n_jobs=None, oob_score=False, random_state=None,\n",
       "                       verbose=0, warm_start=False)"
      ]
     },
     "execution_count": 11,
     "metadata": {},
     "output_type": "execute_result"
    }
   ],
   "source": [
    "clf.fit(x_train,y_train)"
   ]
  },
  {
   "cell_type": "markdown",
   "metadata": {},
   "source": [
    "# Make Predictions"
   ]
  },
  {
   "cell_type": "code",
   "execution_count": 12,
   "metadata": {},
   "outputs": [],
   "source": [
    "y_test_pred=clf.predict(x_test)\n",
    "y_train_pred=clf.predict(x_train)"
   ]
  },
  {
   "cell_type": "code",
   "execution_count": 13,
   "metadata": {},
   "outputs": [
    {
     "name": "stdout",
     "output_type": "stream",
     "text": [
      "Test Accuracy: 0.7837259100642399\n",
      "Train Accuracy: 1.0\n"
     ]
    }
   ],
   "source": [
    "print(\"Test Accuracy:\",metrics.accuracy_score(y_test, y_test_pred))\n",
    "print(\"Train Accuracy:\",metrics.accuracy_score(y_train, y_train_pred))"
   ]
  },
  {
   "cell_type": "code",
   "execution_count": 14,
   "metadata": {},
   "outputs": [],
   "source": [
    "\n",
    "predictions = clf.predict_proba(x_chr21)"
   ]
  },
  {
   "cell_type": "code",
   "execution_count": 15,
   "metadata": {},
   "outputs": [],
   "source": [
    "i = 0\n",
    "ret = []\n",
    "p = [prediction[1] for prediction in predictions]\n",
    "mean = float(sum(p) / len(p))\n",
    "for has_N in contains_N:\n",
    "\n",
    "    if (has_N == 0):\n",
    "        ret.append(p[i])\n",
    "        i = i + 1\n",
    "    else:\n",
    "        ret.append(mean)"
   ]
  },
  {
   "cell_type": "markdown",
   "metadata": {},
   "source": [
    "# Saving the data to wig file"
   ]
  },
  {
   "cell_type": "code",
   "execution_count": 16,
   "metadata": {},
   "outputs": [],
   "source": [
    "with open(\"chr21.wig\", \"w\") as f:\n",
    "    f.write(\"fixedStep chrom=chr21 start=0 step=750 span=1500\\n\")\n",
    "    f.write(\"\\n\".join([str(c) for c in ret]))"
   ]
  },
  {
   "cell_type": "code",
   "execution_count": null,
   "metadata": {},
   "outputs": [],
   "source": []
  }
 ],
 "metadata": {
  "kernelspec": {
   "display_name": "Python 3",
   "language": "python",
   "name": "python3"
  },
  "language_info": {
   "codemirror_mode": {
    "name": "ipython",
    "version": 3
   },
   "file_extension": ".py",
   "mimetype": "text/x-python",
   "name": "python",
   "nbconvert_exporter": "python",
   "pygments_lexer": "ipython3",
   "version": "3.7.4"
  }
 },
 "nbformat": 4,
 "nbformat_minor": 2
}
