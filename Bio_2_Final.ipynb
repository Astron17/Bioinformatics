{
 "cells": [
  {
   "cell_type": "markdown",
   "metadata": {},
   "source": [
    "# function to find words"
   ]
  },
  {
   "cell_type": "code",
   "execution_count": 1,
   "metadata": {},
   "outputs": [],
   "source": [
    "def find_word(N,test_str):  \n",
    "    count = 0\n",
    "    res = \"\" \n",
    "    for ele in test_str: \n",
    "        if ele == '\\t': \n",
    "            count = count + 1\n",
    "            if count == N: \n",
    "                break\n",
    "            res = \"\" \n",
    "        else : \n",
    "            res = res + ele \n",
    "\n",
    "    return(res)"
   ]
  },
  {
   "cell_type": "markdown",
   "metadata": {},
   "source": [
    "# Save data to files"
   ]
  },
  {
   "cell_type": "code",
   "execution_count": 2,
   "metadata": {},
   "outputs": [],
   "source": [
    "def save_values(path, data):\n",
    "    with open('C:\\\\Users\\\\aravi\\\\Desktop\\\\igv-jupyter-master\\\\igv-jupyter-master\\\\examples\\\\data\\\\'+path+'.bed', 'w') as f:\n",
    "        for key in data.keys():\n",
    "            for row in data[key]:\n",
    "                f.write('%s\\t%s\\t%s\\n' % (key, row[0], row[1]))"
   ]
  },
  {
   "cell_type": "markdown",
   "metadata": {},
   "source": [
    "# Find index for counting hits"
   ]
  },
  {
   "cell_type": "code",
   "execution_count": 3,
   "metadata": {},
   "outputs": [],
   "source": [
    "def find_index(lst, val):\n",
    "    \n",
    "    start = 0\n",
    "    end = len(lst) - 1\n",
    "    ret = 0\n",
    "    while (start <= end):\n",
    "        mid = int((start + end) / 2)\n",
    "        \n",
    "        if lst[mid][0] < val:\n",
    "            ret = mid\n",
    "            start = mid + 1\n",
    "        elif lst[mid][0] > val:\n",
    "            end = mid - 1\n",
    "        else:\n",
    "            ret = mid\n",
    "            return ret\n",
    "    return ret\n",
    "            "
   ]
  },
  {
   "cell_type": "code",
   "execution_count": 55,
   "metadata": {},
   "outputs": [
    {
     "name": "stdout",
     "output_type": "stream",
     "text": [
      "(132325, 123011, 45488, 170407)\n"
     ]
    }
   ],
   "source": [
    "# Importing the packages\n",
    "import matplotlib.pyplot as plt\n",
    "\n",
    "#Declaring the Variables\n",
    "\n",
    "start = {}\n",
    "end = {}\n",
    "c_length = {}\n",
    "cpg_islands = {}\n",
    "shores = {}\n",
    "shelves = {}\n",
    "seas = {}\n",
    "dna_methylation = {}\n",
    "bed_value = 2000\n",
    "auto = [\"chr1\", \"chr2\", \"chr3\", \"chr4\", \"chr5\", \"chr6\", \"chr7\", \"chr8\", \"chr9\", \"chr10\", \"chr11\",\n",
    "        \"chr12\", \"chr13\", \"chr14\", \"chr15\", \"chr16\", \"chr17\", \"chr18\", \"chr19\", \"chr20\", \"chr21\", \"chr22\"]\n",
    "\n",
    "\n",
    "for c in auto:\n",
    "    start[c] = []\n",
    "    end[c] = []\n",
    "\n",
    "    \n",
    "# Reading the Data from the files\n",
    "\n",
    "with open(\"C:/Users/aravi/Desktop/igv-jupyter-master/igv-jupyter-master/examples/data/hg19.chrom.sizes.txt\") as file:\n",
    "    string = file.read()\n",
    "    for line in string.split('\\n'):\n",
    "        if find_word(1, line) in auto:\n",
    "            c_length[find_word(1, line)] = int(find_word(2, line))\n",
    "            \n",
    "\n",
    "with open(\"C:/Users/aravi/Desktop/igv-jupyter-master/igv-jupyter-master/examples/data/cpgIslandExt.txt\") as file:\n",
    "    string = file.read()\n",
    "    for line in string.split('\\n'):\n",
    "        if find_word(2, line) in auto:\n",
    "            start[find_word(2, line)].append(int(find_word(3, line)))\n",
    "            end[find_word(2, line)].append(int(find_word(4, line)))\n",
    "            \n",
    "\n",
    "with open(\"C:/Users/aravi/Desktop/igv-jupyter-master/igv-jupyter-master/examples/data/HAIB.A549.EtOH.Rep.3.bed\")as f:\n",
    "    for line in f:\n",
    "        content = line.strip().split()\n",
    "        if content[0] in auto:\n",
    "\n",
    "            if content[0] in dna_methylation:\n",
    "                dna_methylation[content[0]].append(\n",
    "                    (int(content[1]) + int(content[2])) / 2)\n",
    "            else:\n",
    "                dna_methylation[content[0]] = [\n",
    "                    (int(content[1]) + int(content[2])) / 2]\n",
    "\n",
    "    for chromo in auto:\n",
    "        chromo_len = c_length[chromo]\n",
    "        length = len(start[chromo])\n",
    "\n",
    "        # defining\n",
    "        shores[chromo] = []\n",
    "        shelves[chromo] = []\n",
    "        seas[chromo] = []\n",
    "        cpg_islands[chromo] = []\n",
    "        \n",
    "        # first cpg island value\n",
    "        cpg_islands[chromo].append((start[chromo][0], end[chromo][0]))\n",
    "        \n",
    "        if start[chromo][0] > (2*bed_value):  # space for shore, shelve and sea\n",
    "            # print(cpg_start[0])\n",
    "            seas[chromo].append((0, start[chromo][0] - 2*bed_value))\n",
    "            shelves[chromo].append(\n",
    "                (start[chromo][0] - 2*bed_value, start[chromo][0] - bed_value))\n",
    "            shores[chromo].append(\n",
    "                (start[chromo][0] - bed_value, start[chromo][0]))\n",
    "            \n",
    "        elif start[chromo][0] > (bed_value):    # space for shore and shelve\n",
    "            \n",
    "            shelves[chromo].append((0, start[chromo][0] - bed_value))\n",
    "            shores[chromo].append(\n",
    "                (start[chromo][0] - bed_value, start[chromo][0]))\n",
    "            \n",
    "        elif cpg_start[0] < (bed_value):    # space for shore only\n",
    "            \n",
    "            shores[chromo].append((0, start[chromo][0]))\n",
    "\n",
    "        last_end = end[chromo][0]\n",
    "        for i in range(1, length):\n",
    "            first = start[chromo][i]\n",
    "            last = end[chromo][i]\n",
    "\n",
    "            # space for shores, shelves and seas\n",
    "            if first - last_end > (4*bed_value):\n",
    "                shores[chromo].append((last_end, last_end + bed_value))\n",
    "                shelves[chromo].append(\n",
    "                    (last_end + bed_value, last_end + 2*bed_value))\n",
    "                seas[chromo].append(\n",
    "                    (last_end + 2*bed_value, first - 2*bed_value))\n",
    "                shelves[chromo].append(\n",
    "                    (first - 2*bed_value, first - bed_value))\n",
    "                shores[chromo].append((first - bed_value, first))\n",
    "                \n",
    "            # space for shores and shelves\n",
    "            elif first - last_end > (2*bed_value):\n",
    "                shores[chromo].append((last_end, last_end + bed_value))\n",
    "                shelves[chromo].append(\n",
    "                    (last_end + bed_value, first - bed_value))\n",
    "                shores[chromo].append((first - bed_value, first))\n",
    "                \n",
    "            else:  # space for shore only\n",
    "                shores[chromo].append((last_end, first))\n",
    "\n",
    "            last_end = last\n",
    "            cpg_islands[chromo].append((first, last))\n",
    "\n",
    "\n",
    "\n",
    "            # Last CPG Island\n",
    "        if chromo_len - last_end > (2*bed_value):\n",
    "            shores[chromo].append((last_end, last_end + bed_value))\n",
    "            shelves[chromo].append(\n",
    "                (last_end + bed_value, last_end + 2*bed_value))\n",
    "            seas[chromo].append((last_end + 2*bed_value, chromo_len))\n",
    "            \n",
    "        elif chromo_len - last_end > (bed_value):\n",
    "            shores[chromo].append((last_end, last_end + bed_value))\n",
    "            shelves[chromo].append((last_end + bed_value, chromo_len))\n",
    "            \n",
    "        elif chromo_len - last_end <= (bed_value):\n",
    "            shores[chromo].append((last_end, chromo_len))\n",
    "\n",
    "    file.close()\n",
    "save_values('cpg_islands', cpg_islands)\n",
    "save_values('shores', shores)\n",
    "save_values('shelves', shelves)\n",
    "save_values('seas', seas)\n",
    "\n",
    "\n",
    "cpg_islands_cnt = 0\n",
    "shores_cnt = 0\n",
    "shelves_cnt = 0\n",
    "seas_cnt = 0\n",
    "\n",
    "\n",
    "for chromo in dna_methylation.keys():\n",
    "\n",
    "    # search the first segment which contains the methylation point\n",
    "    for middle in dna_methylation[chromo]:\n",
    "\n",
    "        shore_idx = find_index(shores[chromo], middle)\n",
    "        shores_cnt = shores_cnt + \\\n",
    "            int(shores[chromo][shore_idx][0] <=\n",
    "                middle and shores[chromo][shore_idx][1] >= middle)\n",
    "\n",
    "        shelve_idx = find_index(shelves[chromo], middle)\n",
    "        shelves_cnt = shelves_cnt + \\\n",
    "            int(shelves[chromo][shelve_idx][0] <=\n",
    "                middle and shelves[chromo][shelve_idx][1] >= middle)\n",
    "\n",
    "        cpg_island_idx = find_index(cpg_islands[chromo], middle)\n",
    "        cpg_islands_cnt = cpg_islands_cnt + \\\n",
    "            int(cpg_islands[chromo][cpg_island_idx][0] <=\n",
    "                middle and cpg_islands[chromo][cpg_island_idx][1] >= middle)\n",
    "\n",
    "        sea_idx = find_index(seas[chromo], middle)\n",
    "        seas_cnt = seas_cnt + \\\n",
    "            int(seas[chromo][sea_idx][0] <=\n",
    "                middle and seas[chromo][sea_idx][1] >= middle)\n",
    "\n",
    "\n",
    "vector = (cpg_islands_cnt, shores_cnt, shelves_cnt, seas_cnt)\n",
    "print(vector)\n",
    "norm = [float(i)/sum(vector) for i in vector]\n"
   ]
  },
  {
   "cell_type": "markdown",
   "metadata": {},
   "source": [
    "# Displaying the results"
   ]
  },
  {
   "cell_type": "code",
   "execution_count": 5,
   "metadata": {},
   "outputs": [],
   "source": [
    "import igv\n"
   ]
  },
  {
   "cell_type": "code",
   "execution_count": 6,
   "metadata": {},
   "outputs": [
    {
     "data": {
      "text/html": [
       "<div id=\"igv_7552939\"></div>"
      ],
      "text/plain": [
       "<IPython.core.display.HTML object>"
      ]
     },
     "metadata": {},
     "output_type": "display_data"
    }
   ],
   "source": [
    "b = igv.Browser(\n",
    "    {\"reference\": {\n",
    "        \"id\": \"hg19\",\n",
    "        \"tracks\": [\n",
    "            {\n",
    "                \"name\": \"RefGene\",\n",
    "                \"url\": \"files/data/cpg_islands.bed\"\n",
    "            }\n",
    "        ]\n",
    "    }}\n",
    ")\n",
    "b.show()"
   ]
  },
  {
   "cell_type": "code",
   "execution_count": 7,
   "metadata": {},
   "outputs": [],
   "source": [
    "b.load_track(\n",
    "    {\n",
    "        \"name\": \"cpg\",\n",
    "        \"url\": \"files/data/cpg_islands.bed\",\n",
    "        \"format\": \"bed\",\n",
    "        \"type\": \"variant\",\n",
    "        \"indexed\": False\n",
    "    })\n",
    "b.load_track(\n",
    "    {\n",
    "    \n",
    "        \"name\": \"Shores\",\n",
    "        \"url\": \"files/data/shores.bed\",\n",
    "        \"format\": \"bed\",\n",
    "        \"type\": \"variant\",\n",
    "        \"indexed\": False\n",
    "       \n",
    "    })\n",
    "b.load_track(\n",
    "    {\n",
    "        \"name\": \"Shelves\",\n",
    "        \"url\": \"files/data/shelves.bed\",\n",
    "        \"format\": \"bed\",\n",
    "        \"type\": \"variant\",\n",
    "        \"indexed\": False\n",
    "    })\n",
    "b.load_track(\n",
    "    {\n",
    "        \"name\": \"Seas\",\n",
    "        \"url\": \"files/data/seas.bed\",\n",
    "        \"format\": \"bed\",\n",
    "        \"type\": \"variant\",\n",
    "        \"indexed\": False\n",
    "    })\n",
    "b.zoom_in()"
   ]
  },
  {
   "cell_type": "code",
   "execution_count": 8,
   "metadata": {},
   "outputs": [],
   "source": [
    "b.zoom_in()"
   ]
  },
  {
   "cell_type": "markdown",
   "metadata": {},
   "source": [
    "# Plotting in Graph"
   ]
  },
  {
   "cell_type": "code",
   "execution_count": 73,
   "metadata": {},
   "outputs": [
    {
     "data": {
      "image/png": "[encoded data removed]",
      "text/plain": [
       "<Figure size 432x288 with 1 Axes>"
      ]
     },
     "metadata": {
      "needs_background": "light"
     },
     "output_type": "display_data"
    }
   ],
   "source": [
    "import matplotlib\n",
    "import matplotlib.pyplot as plt\n",
    "import numpy as np\n",
    "\n",
    "\n",
    "labels = ['cpg island','shore','shelve','sea']\n",
    "men_means = [ vector[0], vector[1], vector[2],vector[3]]\n",
    "\n",
    "\n",
    "x = np.arange(len(labels))  # the label locations\n",
    "width = 0.35  # the width of the bars\n",
    "\n",
    "fig, ax = plt.subplots()\n",
    "rects1 = ax.bar(x - width/2, men_means, width, label='Values')\n",
    "\n",
    "\n",
    "# Add some text for labels, title and custom x-axis tick labels, etc.\n",
    "ax.set_ylabel('Count')\n",
    "ax.set_xlabel('Percentage')\n",
    "ax.set_title('Bed Chart')\n",
    "ax.set_xticks(x)\n",
    "ax.set_xticklabels(labels)\n",
    "ax.legend()\n",
    "\n",
    "\n",
    "def autolabel(rects,norm):\n",
    "    i=0\n",
    "\n",
    "    for rect in rects:\n",
    "        \n",
    "        height = rect.get_height()\n",
    "        ax.annotate(format(norm[i],\".2%\"),\n",
    "                    xy=(rect.get_x() + rect.get_width() / 2, height),\n",
    "                    xytext=(0, 3),  # 3 points vertical offset\n",
    "                    textcoords=\"offset points\",\n",
    "                    ha='center', va='bottom')\n",
    "        i=i+1\n",
    "\n",
    "\n",
    "autolabel(rects1,norm)\n",
    "\n",
    "\n",
    "fig.tight_layout()\n",
    "\n",
    "plt.show()"
   ]
  },
  {
   "cell_type": "code",
   "execution_count": 65,
   "metadata": {},
   "outputs": [
    {
     "name": "stdout",
     "output_type": "stream",
     "text": [
      "4\n"
     ]
    }
   ],
   "source": []
  },
  {
   "cell_type": "code",
   "execution_count": null,
   "metadata": {},
   "outputs": [],
   "source": []
  }
 ],
 "metadata": {
  "kernelspec": {
   "display_name": "Python 3",
   "language": "python",
   "name": "python3"
  },
  "language_info": {
   "codemirror_mode": {
    "name": "ipython",
    "version": 3
   },
   "file_extension": ".py",
   "mimetype": "text/x-python",
   "name": "python",
   "nbconvert_exporter": "python",
   "pygments_lexer": "ipython3",
   "version": "3.7.4"
  }
 },
 "nbformat": 4,
 "nbformat_minor": 2
}
